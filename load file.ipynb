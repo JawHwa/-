{
 "cells": [
  {
   "cell_type": "code",
   "execution_count": null,
   "metadata": {},
   "outputs": [],
   "source": [
    "from os import walk\n",
    "\n",
    "path = \"檔案路徑\"\n",
    "for root, dirs, files in walk(path):\n",
    "    for file in files:\n",
    "        print(file)\n",
    "#         break"
   ]
  },
  {
   "cell_type": "code",
   "execution_count": null,
   "metadata": {},
   "outputs": [],
   "source": [
    "# 使用字典存入指定副檔名之表單\n",
    "datas = {}\n",
    "path = 'data/'\n",
    "for root, dirs, files in walk(path):\n",
    "    for file in files:\n",
    "        route = root+file\n",
    "        if route.split('.')[1] == 'csv':\n",
    "            datas[file] = pd.read_csv(route)"
   ]
  }
 ],
 "metadata": {
  "kernelspec": {
   "display_name": "Python 3",
   "language": "python",
   "name": "python3"
  },
  "language_info": {
   "codemirror_mode": {
    "name": "ipython",
    "version": 3
   },
   "file_extension": ".py",
   "mimetype": "text/x-python",
   "name": "python",
   "nbconvert_exporter": "python",
   "pygments_lexer": "ipython3",
   "version": "3.7.3"
  }
 },
 "nbformat": 4,
 "nbformat_minor": 2
}
