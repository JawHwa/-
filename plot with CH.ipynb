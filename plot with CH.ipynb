{
 "cells": [
  {
   "cell_type": "code",
   "execution_count": null,
   "metadata": {},
   "outputs": [],
   "source": [
    "import os\n",
    "import pandas as pd\n",
    "import matplotlib.pyplot as plt\n",
    "from matplotlib.font_manager import FontProperties"
   ]
  },
  {
   "cell_type": "code",
   "execution_count": null,
   "metadata": {},
   "outputs": [],
   "source": [
    "from matplotlib.font_manager import fontManager\n",
    "\n",
    "# 找尋中文字型的檔案路徑\n",
    "SimSun_path = None\n",
    "for i in range(len(fontManager.ttflist)):\n",
    "    if fontManager.ttflist[i].name == 'SimSun':\n",
    "        SimSun_path = fontManager.ttflist[i].fname\n",
    "        print(SimSun_path)"
   ]
  },
  {
   "cell_type": "markdown",
   "metadata": {},
   "source": [
    "### 方法一 在每次繪圖時，設定中文字型參數"
   ]
  },
  {
   "cell_type": "code",
   "execution_count": null,
   "metadata": {},
   "outputs": [],
   "source": [
    "# 設定中文字型，fname給定下載的中文字型路徑(免費商用網址:https://hubermovie.com/cn_free_w)\n",
    "# 路徑若是給字串形式，前面須加上r避免轉義，ex: r\"C:\\WINDOWS\\Fonts\\simsun.ttc\"\n",
    "myFont = FontProperties(fname=SimSun_path, size=10)\n",
    "df = pd.DataFrame(data={'性別':['男生','女生'],'人數':[23,21]})"
   ]
  },
  {
   "cell_type": "code",
   "execution_count": null,
   "metadata": {},
   "outputs": [],
   "source": [
    "# 繪製Bar圖表\n",
    "plt.bar(df['性別'].index,df['人數'])\n",
    "# 設定標籤屬性\n",
    "plt.xticks(df['性別'].index,df['性別'],fontproperties=myFont)\n",
    "plt.show()"
   ]
  },
  {
   "cell_type": "code",
   "execution_count": null,
   "metadata": {},
   "outputs": [],
   "source": [
    "# 繪製Pie圖表\n",
    "# 官網網址:https://matplotlib.org/3.1.1/api/_as_gen/matplotlib.pyplot.pie.html\n",
    "# 參考網址:https://newaurora.pixnet.net/blog/post/227940020-python-%E4%BD%BF%E7%94%A8matplotlib%E7%95%AB%E5%9C%93%E9%A4%85%E5%9C%96%28pie-chart%29\n",
    "# 圓餅圖參數\n",
    "pie_patches, pie_texts, pie_autotexts = plt.pie(df['人數'],labels=df['性別'],autopct=\"%0.2f%%\")\n",
    "# 設定分類的字型\n",
    "for t in pie_texts:\n",
    "    t.set_fontproperties(myFont)\n",
    "# 設定數值的字型\n",
    "for t in pie_autotexts:\n",
    "    t.set_fontproperties(myFont)\n",
    "plt.show()"
   ]
  },
  {
   "cell_type": "markdown",
   "metadata": {},
   "source": [
    "### 方法二 直接設定全局中文參數"
   ]
  },
  {
   "cell_type": "code",
   "execution_count": null,
   "metadata": {},
   "outputs": [],
   "source": [
    "# 使用os.stat()抓取文字檔案資訊，對檔案大小約大於1M的篩選出來(因中文字型檔案通常較大)，用以找尋已有的中文字型\n",
    "fonts = [font.name for font in fontManager.ttflist if \\\n",
    "         os.path.exists(font.fname) and os.stat(font.fname).st_size>1e6] \n",
    "for font in fonts:\n",
    "    print(font)"
   ]
  },
  {
   "cell_type": "code",
   "execution_count": null,
   "metadata": {},
   "outputs": [],
   "source": [
    "# 也可直接抓取中文字形放到matplotlib\\mpl-data\\fonts\\ttf資料夾下\n",
    "# 印出matplotlib路徑\n",
    "import matplotlib\n",
    "print(matplotlib.__file__)"
   ]
  },
  {
   "cell_type": "code",
   "execution_count": null,
   "metadata": {},
   "outputs": [],
   "source": [
    "# 設定全局中文變數\n",
    "plt.rcParams['font.sans-serif']=['SimSun'] #用來正常顯示中文標籤\n",
    "plt.rcParams['axes.unicode_minus']=False #用來正常顯示負號\n",
    "\n",
    "df = pd.DataFrame(data={'性別':['男生','女生'],'人數':[23,21]})\n",
    "plt.bar(df['性別'],df['人數'])"
   ]
  }
 ],
 "metadata": {
  "kernelspec": {
   "display_name": "Python 3",
   "language": "python",
   "name": "python3"
  },
  "language_info": {
   "codemirror_mode": {
    "name": "ipython",
    "version": 3
   },
   "file_extension": ".py",
   "mimetype": "text/x-python",
   "name": "python",
   "nbconvert_exporter": "python",
   "pygments_lexer": "ipython3",
   "version": "3.7.3"
  }
 },
 "nbformat": 4,
 "nbformat_minor": 2
}
